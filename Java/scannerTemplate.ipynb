{
 "cells": [
  {
   "cell_type": "code",
   "execution_count": null,
   "id": "f40fe4d4",
   "metadata": {
    "vscode": {
     "languageId": "java"
    }
   },
   "outputs": [],
   "source": [
    "```java\n",
    "import java.util.Scanner;\n",
    "\n",
    "public class EntradaDeDados {\n",
    "    public static void main(String[] args) {\n",
    "        Scanner scanner = new Scanner(System.in); // Cria um objeto Scanner\n",
    "\n",
    "        System.out.print(\"Digite seu nome: \");\n",
    "        String nome = scanner.nextLine(); // Lê uma linha de texto\n",
    "\n",
    "        System.out.print(\"Digite sua idade: \");\n",
    "        int idade = scanner.nextInt(); // Lê um número inteiro\n",
    "\n",
    "        System.out.println(\"Olá, \" + nome + \"! Você tem \" + idade + \" anos.\");\n",
    "\n",
    "        scanner.close(); // Fecha o Scanner\n",
    "    }\n",
    "}\n",
    "\n",
    "```"
   ]
  }
 ],
 "metadata": {
  "language_info": {
   "name": "python"
  }
 },
 "nbformat": 4,
 "nbformat_minor": 5
}
