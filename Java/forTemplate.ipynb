{
 "cells": [
  {
   "cell_type": "code",
   "execution_count": null,
   "id": "2844b4db",
   "metadata": {
    "vscode": {
     "languageId": "java"
    }
   },
   "outputs": [],
   "source": [
    "import java.util.forTemplate;\n",
    "\n",
    "public class exec {\n",
    "    public static void main(String[] args) {\n",
    "        /*o seguinte comando declara uma estrutura de repetição de 0 a 10\n",
    "        o \"i\" é o iterador, ele inicia em 0 e vai até 10, de forma crescente é representado por i++ */\n",
    "        for(int i = 0; i <= 10; i++)(\n",
    "            //nesse campo ficam os comandos que você deseja executar dentro da laço de repetição criado\n",
    "        )\n",
    "    }\n",
    "}\n",
    "\n"
   ]
  }
 ],
 "metadata": {
  "language_info": {
   "name": "python"
  }
 },
 "nbformat": 4,
 "nbformat_minor": 5
}
