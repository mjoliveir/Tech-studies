{
 "cells": [
  {
   "cell_type": "code",
   "execution_count": null,
   "id": "a635ead8",
   "metadata": {
    "vscode": {
     "languageId": "java"
    }
   },
   "outputs": [],
   "source": [
    "// Exemplo de uso do charAt em Java\n",
    "\n",
    "import java.util.Scanner;\n",
    "\n",
    "public class ExemploCharAt {\n",
    "    public static void main(String[] args) {\n",
    "        Scanner scanner = new Scanner(System.in);\n",
    "\n",
    "        System.out.println(\"Digite uma palavra:\");\n",
    "        String palavra = scanner.nextLine();\n",
    "\n",
    "        // Exibe todos os caracteres da palavra com seus índices\n",
    "        for (int i = 0; i < palavra.length(); i++) {\n",
    "            char letra = palavra.charAt(i);\n",
    "            System.out.println(\"Caracter na posicao \" + i + \": \" + letra);\n",
    "        }\n",
    "\n",
    "        // Captura apenas a primeira letra da palavra\n",
    "        char primeiraLetra = palavra.charAt(0);\n",
    "        System.out.println(\"\\nA primeira letra da palavra \\'\" + palavra + \"\\' e: \" + primeiraLetra);\n",
    "\n",
    "        scanner.close();\n",
    "    }\n",
    "}\n"
   ]
  }
 ],
 "metadata": {
  "language_info": {
   "name": "python"
  }
 },
 "nbformat": 4,
 "nbformat_minor": 5
}
