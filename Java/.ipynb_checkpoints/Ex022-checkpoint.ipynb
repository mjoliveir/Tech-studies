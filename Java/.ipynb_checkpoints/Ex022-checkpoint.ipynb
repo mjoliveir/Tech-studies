{
 "cells": [
  {
   "cell_type": "markdown",
   "id": "23306d71",
   "metadata": {},
   "source": [
    "## Exercicio 22\n",
    "#22. Faça um algoritmo que receba o preço de custo e o preço de venda de 40 produtos. Mostre como resultado\n",
    "se houve lucro, prejuízo ou empate para cada produto. Informe o valor de custo de cada produto, o valor\n",
    "de venda de cada produto, a média de preço de custo e do preço de venda;"
   ]
  },
  {
   "cell_type": "code",
   "execution_count": null,
   "id": "49c22709",
   "metadata": {
    "vscode": {
     "languageId": "java"
    }
   },
   "outputs": [],
   "source": [
    "import java.util.Scanner;\n",
    "\n",
    "public class App {\n",
    "    public static void main(String[] args) {\n",
    "        /*22. Faça um algoritmo que receba o preço de custo e o preço de venda de 40 produtos. Mostre como resultado\n",
    "se houve lucro, prejuízo ou empate para cada produto. Informe o valor de custo de cada produto, o valor\n",
    "de venda de cada produto, amédia de preço de custo e do preço de venda;*/\n",
    "        Scanner leitorScanner = new Scanner(System.in);\n",
    "        int pcContador = 0;\n",
    "        int pvContador = 0;\n",
    "        for (i = 0, i <= 3, i++){\n",
    "            System.out.println(\"Digite o preço de custo do produto 1:\");\n",
    "            int pc1 = leitorScanner.nextInt();\n",
    "            System.out.println(\"Digite o preço de venda do produto 1:\");\n",
    "            int pv1 = leitorScanner.nextInt();\n",
    "            pcContador = pc1 + pcContador;\n",
    "            pvContador = pv1 + pvContador;\n",
    "        };\n",
    "    mediav = pvContador / 3;\n",
    "    mediac = pvContador / 3;\n",
    "    lucro = mediac - mediav;\n",
    "    System.out.println(\"A media de custo foi de:\" + mediac +\". Enquanto a media de venda foi de\" + mediav);\n",
    "    if (mediac > mediav){\n",
    "        System.out.println(\"Infelizmente ficamos no prejuizo com uma dívida de:\" + lucro);\n",
    "    } else {\n",
    "        System.out.println(\"Felizmente tivemos um lucro de:\" + lucro);\n",
    "    }\n",
    "    \n",
    "    \n",
    "    }\n",
    "}\n"
   ]
  }
 ],
 "metadata": {
  "language_info": {
   "name": "python"
  }
 },
 "nbformat": 4,
 "nbformat_minor": 5
}
